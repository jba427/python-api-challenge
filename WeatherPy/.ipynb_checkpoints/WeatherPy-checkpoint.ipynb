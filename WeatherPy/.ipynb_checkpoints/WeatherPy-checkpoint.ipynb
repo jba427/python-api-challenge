{
 "cells": [
  {
   "cell_type": "markdown",
   "metadata": {},
   "source": [
    "# WeatherPy\n",
    "----\n",
    "\n",
    "#### Note\n",
    "* Instructions have been included for each segment. You do not have to follow them exactly, but they are included to help you think through the steps."
   ]
  },
  {
   "cell_type": "code",
   "execution_count": 1,
   "metadata": {
    "scrolled": true
   },
   "outputs": [],
   "source": [
    "# Dependencies and Setup\n",
    "import matplotlib.pyplot as plt\n",
    "import pandas as pd\n",
    "import numpy as np\n",
    "import requests\n",
    "import time\n",
    "from scipy.stats import linregress\n",
    "import json\n",
    "\n",
    "# Import API key\n",
    "from api_keys import weather_api_key\n",
    "\n",
    "# Incorporated citipy to determine city based on latitude and longitude\n",
    "from citipy import citipy\n",
    "\n",
    "# Output File (CSV)\n",
    "output_data_file = \"output_data/cities.csv\"\n",
    "\n",
    "# Range of latitudes and longitudes\n",
    "lat_range = (-90, 90)\n",
    "lng_range = (-180, 180)"
   ]
  },
  {
   "cell_type": "markdown",
   "metadata": {},
   "source": [
    "## Generate Cities List"
   ]
  },
  {
   "cell_type": "code",
   "execution_count": 2,
   "metadata": {},
   "outputs": [
    {
     "data": {
      "text/plain": [
       "622"
      ]
     },
     "execution_count": 2,
     "metadata": {},
     "output_type": "execute_result"
    }
   ],
   "source": [
    "# List for holding lat_lngs and cities\n",
    "lat_lngs = []\n",
    "cities = []\n",
    "\n",
    "# Create a set of random lat and lng combinations\n",
    "lats = np.random.uniform(lat_range[0], lat_range[1], size=1500)\n",
    "lngs = np.random.uniform(lng_range[0], lng_range[1], size=1500)\n",
    "lat_lngs = zip(lats, lngs)\n",
    "\n",
    "# Identify nearest city for each lat, lng combination\n",
    "for lat_lng in lat_lngs:\n",
    "    city = citipy.nearest_city(lat_lng[0], lat_lng[1]).city_name\n",
    "    \n",
    "    # If the city is unique, then add it to a our cities list\n",
    "    if city not in cities:\n",
    "        cities.append(city)\n",
    "\n",
    "# Print the city count to confirm sufficient count\n",
    "len(cities)"
   ]
  },
  {
   "cell_type": "markdown",
   "metadata": {},
   "source": [
    "### Perform API Calls\n",
    "* Perform a weather check on each city using a series of successive API calls.\n",
    "* Include a print log of each city as it'sbeing processed (with the city number and city name).\n"
   ]
  },
  {
   "cell_type": "code",
   "execution_count": 3,
   "metadata": {},
   "outputs": [
    {
     "name": "stdout",
     "output_type": "stream",
     "text": [
      "Beginning Data Retrieval\n",
      "------------------------\n",
      "Processing Record 0 | hovd\n",
      "Processing Record 1 | faanui\n",
      "Processing Record 2 | kodiak\n",
      "Processing Record 3 | tasiilaq\n",
      "Processing Record 4 | barrow\n",
      "Processing Record 5 | puerto ayacucho\n",
      "Processing Record 6 | punta arenas\n",
      "Processing Record 7 | ginir\n",
      "Processing Record 8 | la ronge\n",
      "Processing Record 9 | port alfred\n",
      "Processing Record 10 | sur\n",
      "Processing Record 11 | port hardy\n",
      "Processing Record 12 | puerto ayora\n",
      "Processing Record 13 | nemuro\n",
      "Processing Record 14 | depalpur\n",
      "Processing Record 15 | mazara del vallo\n",
      "Processing Record 16 | hermanus\n",
      "City not found. Skipping illoqqortoormiut\n",
      "City not found. Skipping meyungs\n",
      "Processing Record 19 | avarua\n",
      "City not found. Skipping amderma\n",
      "Processing Record 21 | balkhash\n",
      "Processing Record 22 | busselton\n",
      "Processing Record 23 | butaritari\n",
      "Processing Record 24 | takapau\n",
      "Processing Record 25 | laguna\n",
      "Processing Record 26 | vostok\n",
      "Processing Record 27 | honiara\n",
      "Processing Record 28 | tiksi\n",
      "Processing Record 29 | palmerston\n",
      "Processing Record 30 | mataura\n",
      "Processing Record 31 | ambon\n",
      "Processing Record 32 | yankton\n",
      "Processing Record 33 | jamestown\n",
      "Processing Record 34 | ponta do sol\n",
      "Processing Record 35 | westport\n",
      "Processing Record 36 | corleone\n",
      "Processing Record 37 | nanortalik\n",
      "Processing Record 38 | nome\n",
      "Processing Record 39 | labuhan\n",
      "City not found. Skipping bolungarvik\n",
      "City not found. Skipping tumannyy\n",
      "Processing Record 42 | kuito\n",
      "Processing Record 43 | los llanos de aridane\n",
      "Processing Record 44 | nuuk\n",
      "Processing Record 45 | grakhovo\n",
      "Processing Record 46 | rikitea\n",
      "Processing Record 47 | yerbogachen\n",
      "Processing Record 48 | ushuaia\n",
      "Processing Record 49 | saint-philippe\n",
      "Processing Record 50 | vaini\n",
      "City not found. Skipping taolanaro\n",
      "Processing Record 52 | cockburn town\n",
      "Processing Record 53 | saint george\n",
      "Processing Record 54 | san cristobal\n",
      "Processing Record 55 | atuona\n",
      "Processing Record 56 | provideniya\n",
      "Processing Record 57 | yellowknife\n",
      "Processing Record 58 | mahebourg\n",
      "Processing Record 59 | beira\n",
      "Processing Record 60 | ahuimanu\n",
      "Processing Record 61 | tomatlan\n",
      "Processing Record 62 | pizhanka\n",
      "Processing Record 63 | airai\n",
      "City not found. Skipping nizhneyansk\n",
      "Processing Record 65 | pacific grove\n",
      "Processing Record 66 | havoysund\n",
      "Processing Record 67 | ostrovnoy\n",
      "Processing Record 68 | tessalit\n",
      "Processing Record 69 | chokurdakh\n",
      "Processing Record 70 | pombas\n",
      "Processing Record 71 | bredasdorp\n",
      "Processing Record 72 | thompson\n",
      "Processing Record 73 | talnakh\n",
      "Processing Record 74 | viedma\n",
      "Processing Record 75 | husavik\n",
      "Processing Record 76 | sinnamary\n",
      "Processing Record 77 | arklow\n",
      "Processing Record 78 | tenenkou\n",
      "Processing Record 79 | klaksvik\n",
      "Processing Record 80 | cherskiy\n",
      "Processing Record 81 | lata\n",
      "Processing Record 82 | paragominas\n",
      "Processing Record 83 | kupang\n",
      "Processing Record 84 | baculin\n",
      "Processing Record 85 | dicabisagan\n",
      "Processing Record 86 | aklavik\n",
      "Processing Record 87 | hithadhoo\n",
      "Processing Record 88 | isabela\n",
      "Processing Record 89 | oron\n",
      "Processing Record 90 | palmer\n",
      "Processing Record 91 | tigil\n",
      "Processing Record 92 | nikolskoye\n",
      "Processing Record 93 | tamiahua\n",
      "Processing Record 94 | harare\n",
      "Processing Record 95 | hofn\n",
      "Processing Record 96 | esperance\n",
      "Processing Record 97 | pangnirtung\n",
      "Processing Record 98 | petropavlovsk-kamchatskiy\n",
      "Processing Record 99 | beringovskiy\n",
      "Processing Record 100 | cabo san lucas\n",
      "Processing Record 101 | talin\n",
      "Processing Record 102 | dinguiraye\n",
      "Processing Record 103 | ratnagiri\n",
      "Processing Record 104 | samarai\n",
      "Processing Record 105 | arraial do cabo\n",
      "Processing Record 106 | medicine hat\n",
      "City not found. Skipping mys shmidta\n",
      "Processing Record 108 | upernavik\n",
      "Processing Record 109 | aykhal\n",
      "Processing Record 110 | carnarvon\n",
      "Processing Record 111 | sorong\n",
      "Processing Record 112 | namatanai\n",
      "Processing Record 113 | leningradskiy\n",
      "Processing Record 114 | hobart\n",
      "Processing Record 115 | ilulissat\n",
      "Processing Record 116 | qaanaaq\n",
      "Processing Record 117 | kapaa\n",
      "Processing Record 118 | faurei\n",
      "City not found. Skipping kegayli\n",
      "Processing Record 120 | el tigre\n",
      "Processing Record 121 | lagos\n",
      "Processing Record 122 | diffa\n",
      "Processing Record 123 | hilo\n",
      "Processing Record 124 | te anau\n",
      "Processing Record 125 | albany\n",
      "Processing Record 126 | ayr\n",
      "Processing Record 127 | thongwa\n",
      "Processing Record 128 | takoradi\n",
      "Processing Record 129 | namibe\n",
      "Processing Record 130 | nizwa\n",
      "Processing Record 131 | chapais\n",
      "Processing Record 132 | ilo\n",
      "Processing Record 133 | panguipulli\n",
      "Processing Record 134 | marsh harbour\n",
      "Processing Record 135 | praya\n",
      "Processing Record 136 | yambio\n",
      "Processing Record 137 | cape town\n",
      "Processing Record 138 | hamilton\n",
      "Processing Record 139 | yulara\n",
      "Processing Record 140 | kavieng\n",
      "Processing Record 141 | grindavik\n",
      "Processing Record 142 | tuktoyaktuk\n",
      "Processing Record 143 | bethel\n",
      "Processing Record 144 | tarpon springs\n",
      "Processing Record 145 | ampanihy\n",
      "Processing Record 146 | vagur\n",
      "Processing Record 147 | tignere\n",
      "Processing Record 148 | east london\n",
      "Processing Record 149 | osoyoos\n",
      "Processing Record 150 | wasilla\n",
      "Processing Record 151 | fort nelson\n",
      "Processing Record 152 | quepos\n",
      "Processing Record 153 | maloy\n",
      "Processing Record 154 | new norfolk\n",
      "Processing Record 155 | dhanaula\n",
      "Processing Record 156 | santiago\n",
      "Processing Record 157 | kamen-na-obi\n",
      "Processing Record 158 | morros\n",
      "Processing Record 159 | bluff\n",
      "Processing Record 160 | katsuura\n",
      "Processing Record 161 | mar del plata\n",
      "Processing Record 162 | khatanga\n",
      "Processing Record 163 | victoria\n",
      "Processing Record 164 | alghero\n",
      "City not found. Skipping longlac\n",
      "Processing Record 166 | kaitangata\n",
      "Processing Record 167 | visby\n",
      "Processing Record 168 | malayal\n",
      "Processing Record 169 | dhidhdhoo\n",
      "Processing Record 170 | arroyo\n",
      "City not found. Skipping marcona\n",
      "Processing Record 172 | mambajao\n",
      "Processing Record 173 | kiama\n",
      "Processing Record 174 | gigmoto\n",
      "Processing Record 175 | longyearbyen\n",
      "Processing Record 176 | asau\n",
      "Processing Record 177 | maxixe\n",
      "Processing Record 178 | cayenne\n",
      "Processing Record 179 | murray bridge\n",
      "Processing Record 180 | la crosse\n",
      "Processing Record 181 | komsomolskiy\n",
      "Processing Record 182 | xuanzhou\n",
      "Processing Record 183 | gubin\n",
      "Processing Record 184 | tautira\n",
      "Processing Record 185 | bonavista\n",
      "Processing Record 186 | russell\n",
      "City not found. Skipping palabuhanratu\n",
      "Processing Record 188 | kruisfontein\n",
      "Processing Record 189 | karasjok\n",
      "Processing Record 190 | frontera\n",
      "Processing Record 191 | lompoc\n",
      "Processing Record 192 | lashio\n",
      "Processing Record 193 | san jeronimo\n",
      "Processing Record 194 | ancud\n",
      "Processing Record 195 | shilka\n",
      "City not found. Skipping lolua\n",
      "Processing Record 197 | camacha\n",
      "Processing Record 198 | pitimbu\n",
      "Processing Record 199 | clyde river\n",
      "Processing Record 200 | saint-louis\n",
      "Processing Record 201 | comodoro rivadavia\n",
      "Processing Record 202 | fairbanks\n",
      "Processing Record 203 | mao\n",
      "Processing Record 204 | raudeberg\n",
      "Processing Record 205 | pangkalanbuun\n",
      "Processing Record 206 | faya\n",
      "City not found. Skipping santa eulalia del rio\n",
      "Processing Record 208 | puerto colombia\n",
      "Processing Record 209 | niamey\n",
      "Processing Record 210 | lavrentiya\n",
      "Processing Record 211 | kralendijk\n",
      "Processing Record 212 | iracoubo\n",
      "City not found. Skipping attawapiskat\n",
      "Processing Record 214 | taltal\n",
      "Processing Record 215 | wiarton\n",
      "Processing Record 216 | pisco\n",
      "Processing Record 217 | snezhnogorsk\n",
      "Processing Record 218 | iqaluit\n",
      "Processing Record 219 | saskylakh\n",
      "Processing Record 220 | manicore\n",
      "Processing Record 221 | dikson\n",
      "Processing Record 222 | washougal\n",
      "Processing Record 223 | gorontalo\n",
      "Processing Record 224 | linxia\n",
      "Processing Record 225 | obihiro\n",
      "Processing Record 226 | iquitos\n",
      "City not found. Skipping rungata\n",
      "Processing Record 228 | santa maria\n",
      "Processing Record 229 | sao joao da barra\n",
      "Processing Record 230 | mehamn\n",
      "Processing Record 231 | gogrial\n",
      "Processing Record 232 | kholtoson\n",
      "Processing Record 233 | doume\n",
      "Processing Record 234 | rawson\n",
      "Processing Record 235 | xining\n",
      "Processing Record 236 | kamina\n",
      "Processing Record 237 | vardo\n",
      "Processing Record 238 | aden\n",
      "Processing Record 239 | bathsheba\n",
      "Processing Record 240 | andujar\n",
      "Processing Record 241 | saldanha\n",
      "Processing Record 242 | mlonggo\n",
      "Processing Record 243 | san vicente\n",
      "City not found. Skipping buariki\n",
      "Processing Record 245 | champerico\n",
      "Processing Record 246 | kahului\n",
      "Processing Record 247 | bengkulu\n",
      "Processing Record 248 | sitka\n"
     ]
    },
    {
     "name": "stdout",
     "output_type": "stream",
     "text": [
      "Processing Record 249 | oksovskiy\n",
      "Processing Record 250 | gawler\n",
      "Processing Record 251 | pevek\n",
      "Processing Record 252 | broome\n",
      "Processing Record 253 | durango\n",
      "Processing Record 254 | lagoa\n",
      "City not found. Skipping toulepleu\n",
      "City not found. Skipping tsihombe\n",
      "Processing Record 257 | naze\n",
      "Processing Record 258 | talcahuano\n",
      "Processing Record 259 | hobyo\n",
      "City not found. Skipping milingimbi\n",
      "City not found. Skipping angra\n",
      "Processing Record 262 | moose jaw\n",
      "Processing Record 263 | north bend\n",
      "Processing Record 264 | nantucket\n",
      "Processing Record 265 | mosquera\n",
      "Processing Record 266 | biskamzha\n",
      "Processing Record 267 | evensk\n",
      "Processing Record 268 | santiago de cao\n",
      "Processing Record 269 | coahuayana\n",
      "Processing Record 270 | port elizabeth\n",
      "Processing Record 271 | kristiinankaupunki\n",
      "Processing Record 272 | lorengau\n",
      "Processing Record 273 | ankang\n",
      "Processing Record 274 | narsaq\n",
      "Processing Record 275 | sao lourenco do sul\n",
      "Processing Record 276 | salinas\n",
      "Processing Record 277 | dafeng\n",
      "Processing Record 278 | soyo\n",
      "Processing Record 279 | bratsk\n",
      "Processing Record 280 | lebu\n",
      "Processing Record 281 | henties bay\n",
      "Processing Record 282 | karratha\n",
      "Processing Record 283 | buchanan\n",
      "City not found. Skipping skjaerhollen\n",
      "Processing Record 285 | kibala\n",
      "Processing Record 286 | cidreira\n",
      "Processing Record 287 | okha\n",
      "Processing Record 288 | moerai\n",
      "Processing Record 289 | luderitz\n",
      "Processing Record 290 | hasaki\n",
      "Processing Record 291 | kijang\n",
      "Processing Record 292 | bloemfontein\n",
      "Processing Record 293 | riyadh\n",
      "Processing Record 294 | beloha\n",
      "Processing Record 295 | havre-saint-pierre\n",
      "Processing Record 296 | kavaratti\n",
      "Processing Record 297 | inhambane\n",
      "Processing Record 298 | mackenzie\n",
      "Processing Record 299 | poso\n",
      "Processing Record 300 | kurikka\n",
      "Processing Record 301 | swiecie\n",
      "Processing Record 302 | cozumel\n",
      "Processing Record 303 | paamiut\n",
      "Processing Record 304 | souillac\n",
      "Processing Record 305 | pemangkat\n",
      "Processing Record 306 | kirando\n",
      "Processing Record 307 | banda aceh\n",
      "Processing Record 308 | okhotsk\n",
      "Processing Record 309 | rodrigues alves\n",
      "Processing Record 310 | vila franca do campo\n",
      "Processing Record 311 | ca mau\n",
      "Processing Record 312 | bambous virieux\n",
      "Processing Record 313 | quebec\n",
      "Processing Record 314 | port blair\n",
      "Processing Record 315 | shieli\n",
      "Processing Record 316 | kununurra\n",
      "Processing Record 317 | ribeira grande\n",
      "City not found. Skipping samalaeulu\n",
      "Processing Record 319 | dongsheng\n",
      "Processing Record 320 | port-cartier\n",
      "Processing Record 321 | fare\n",
      "Processing Record 322 | kichera\n",
      "Processing Record 323 | sola\n",
      "Processing Record 324 | castro\n",
      "Processing Record 325 | vao\n",
      "City not found. Skipping mergui\n",
      "Processing Record 327 | acapulco\n",
      "Processing Record 328 | stralsund\n",
      "Processing Record 329 | ohangaron\n",
      "Processing Record 330 | polunochnoye\n",
      "Processing Record 331 | am timan\n",
      "Processing Record 332 | kirakira\n",
      "Processing Record 333 | coos bay\n",
      "Processing Record 334 | tayoltita\n",
      "Processing Record 335 | ilovlya\n",
      "Processing Record 336 | diplo\n",
      "Processing Record 337 | mitu\n",
      "Processing Record 338 | daru\n",
      "City not found. Skipping barentsburg\n",
      "Processing Record 340 | georgetown\n",
      "Processing Record 341 | axim\n",
      "Processing Record 342 | monsenhor gil\n",
      "Processing Record 343 | ville-marie\n",
      "Processing Record 344 | san patricio\n",
      "Processing Record 345 | spring valley\n",
      "Processing Record 346 | tuatapere\n",
      "Processing Record 347 | pierre\n",
      "Processing Record 348 | singleton\n",
      "Processing Record 349 | nargana\n",
      "Processing Record 350 | ixtapa\n",
      "Processing Record 351 | mugan\n",
      "Processing Record 352 | kokoda\n",
      "Processing Record 353 | touros\n",
      "Processing Record 354 | bethanien\n",
      "Processing Record 355 | nouakchott\n",
      "Processing Record 356 | barrafranca\n",
      "Processing Record 357 | codrington\n",
      "Processing Record 358 | talara\n",
      "Processing Record 359 | goundam\n",
      "Processing Record 360 | gizo\n",
      "Processing Record 361 | astana\n",
      "Processing Record 362 | colares\n",
      "Processing Record 363 | malko tarnovo\n",
      "Processing Record 364 | oranjemund\n",
      "Processing Record 365 | jiaxing\n",
      "Processing Record 366 | araouane\n",
      "Processing Record 367 | constitucion\n",
      "Processing Record 368 | severo-kurilsk\n",
      "Processing Record 369 | nicoya\n",
      "Processing Record 370 | tallahassee\n",
      "Processing Record 371 | temir\n",
      "Processing Record 372 | bilma\n",
      "Processing Record 373 | alta floresta\n",
      "Processing Record 374 | vanavara\n",
      "Processing Record 375 | miramar\n",
      "Processing Record 376 | tilichiki\n",
      "Processing Record 377 | canmore\n",
      "Processing Record 378 | bam\n",
      "Processing Record 379 | guerrero negro\n",
      "Processing Record 380 | kalmunai\n",
      "Processing Record 381 | zhob\n",
      "Processing Record 382 | atar\n",
      "Processing Record 383 | lagdo\n",
      "Processing Record 384 | urumqi\n",
      "Processing Record 385 | baghdad\n",
      "Processing Record 386 | singaparna\n",
      "Processing Record 387 | kirkuk\n",
      "Processing Record 388 | coelho neto\n",
      "Processing Record 389 | puerto maldonado\n",
      "Processing Record 390 | orichi\n",
      "City not found. Skipping samusu\n",
      "Processing Record 392 | coihaique\n",
      "Processing Record 393 | richards bay\n",
      "Processing Record 394 | kyra\n",
      "City not found. Skipping tabiauea\n",
      "Processing Record 396 | auki\n",
      "City not found. Skipping yunjinghong\n",
      "Processing Record 398 | brazzaville\n",
      "Processing Record 399 | tutayev\n",
      "City not found. Skipping gorno-chuyskiy\n",
      "Processing Record 401 | izumo\n",
      "City not found. Skipping zhanatas\n",
      "Processing Record 403 | melito di porto salvo\n",
      "Processing Record 404 | miles city\n",
      "Processing Record 405 | lexington\n",
      "Processing Record 406 | isangel\n",
      "Processing Record 407 | hay river\n",
      "Processing Record 408 | adrar\n",
      "Processing Record 409 | kurilsk\n",
      "Processing Record 410 | vallentuna\n",
      "Processing Record 411 | elverum\n",
      "Processing Record 412 | willowmore\n",
      "Processing Record 413 | oranjestad\n",
      "Processing Record 414 | novo aripuana\n",
      "Processing Record 415 | carrickfergus\n",
      "Processing Record 416 | pingliang\n",
      "Processing Record 417 | zhigansk\n",
      "Processing Record 418 | chimbote\n",
      "Processing Record 419 | tabuk\n",
      "Processing Record 420 | sulangan\n",
      "Processing Record 421 | marsa matruh\n",
      "Processing Record 422 | dingle\n",
      "Processing Record 423 | peterhead\n",
      "Processing Record 424 | hambantota\n",
      "Processing Record 425 | mount gambier\n",
      "Processing Record 426 | ossora\n",
      "Processing Record 427 | klyuchi\n",
      "Processing Record 428 | fukue\n",
      "Processing Record 429 | wundanyi\n",
      "Processing Record 430 | monrovia\n",
      "Processing Record 431 | gambiran\n",
      "Processing Record 432 | mishkino\n",
      "Processing Record 433 | aste\n",
      "Processing Record 434 | geraldton\n",
      "Processing Record 435 | soligalich\n",
      "Processing Record 436 | thunder bay\n",
      "Processing Record 437 | mana\n",
      "Processing Record 438 | pimentel\n",
      "Processing Record 439 | vrangel\n",
      "Processing Record 440 | valparaiso\n",
      "City not found. Skipping tarudant\n",
      "City not found. Skipping dien bien\n",
      "Processing Record 443 | hamza\n",
      "Processing Record 444 | trinidad\n",
      "Processing Record 445 | chifeng\n",
      "Processing Record 446 | ahipara\n",
      "City not found. Skipping umzimvubu\n",
      "Processing Record 448 | anadyr\n",
      "Processing Record 449 | mayya\n",
      "Processing Record 450 | gillette\n",
      "Processing Record 451 | lindenhurst\n",
      "Processing Record 452 | kubuta\n",
      "Processing Record 453 | dakar\n",
      "Processing Record 454 | ovalle\n",
      "Processing Record 455 | king city\n",
      "Processing Record 456 | yaan\n",
      "Processing Record 457 | muros\n",
      "Processing Record 458 | poya\n",
      "Processing Record 459 | utete\n",
      "Processing Record 460 | vestmannaeyjar\n",
      "Processing Record 461 | olafsvik\n",
      "Processing Record 462 | ransang\n",
      "Processing Record 463 | tura\n",
      "Processing Record 464 | xushan\n",
      "Processing Record 465 | ust-uda\n",
      "Processing Record 466 | marzuq\n",
      "Processing Record 467 | vani\n",
      "Processing Record 468 | olhao\n",
      "Processing Record 469 | veraval\n",
      "Processing Record 470 | makakilo city\n",
      "Processing Record 471 | verkhnyaya inta\n",
      "Processing Record 472 | teahupoo\n",
      "Processing Record 473 | alyangula\n",
      "Processing Record 474 | zaporizhzhya\n",
      "Processing Record 475 | tornio\n",
      "Processing Record 476 | san quintin\n",
      "Processing Record 477 | tacuarembo\n",
      "City not found. Skipping paradwip\n",
      "Processing Record 479 | pritomskiy\n",
      "Processing Record 480 | homer\n",
      "City not found. Skipping vaitupu\n",
      "Processing Record 482 | salaga\n",
      "Processing Record 483 | novosokolniki\n",
      "Processing Record 484 | hvide sande\n",
      "Processing Record 485 | lake city\n",
      "Processing Record 486 | alofi\n",
      "Processing Record 487 | plainview\n",
      "Processing Record 488 | novomikhaylovskiy\n",
      "Processing Record 489 | najran\n",
      "Processing Record 490 | sassandra\n",
      "Processing Record 491 | ekhabi\n",
      "Processing Record 492 | cravinhos\n",
      "Processing Record 493 | port macquarie\n",
      "Processing Record 494 | chuy\n",
      "Processing Record 495 | luangwa\n"
     ]
    },
    {
     "name": "stdout",
     "output_type": "stream",
     "text": [
      "Processing Record 496 | balabac\n",
      "Processing Record 497 | oum hadjer\n",
      "Processing Record 498 | san carlos de bariloche\n",
      "Processing Record 499 | meulaboh\n",
      "Processing Record 500 | rocha\n",
      "Processing Record 501 | brae\n",
      "Processing Record 502 | loikaw\n",
      "Processing Record 503 | kedgwick\n",
      "Processing Record 504 | vila velha\n",
      "City not found. Skipping tostamaa\n",
      "Processing Record 506 | kristinehamn\n",
      "Processing Record 507 | kosum phisai\n",
      "Processing Record 508 | salalah\n",
      "Processing Record 509 | praia da vitoria\n",
      "Processing Record 510 | arman\n",
      "Processing Record 511 | innisfail\n",
      "Processing Record 512 | bambui\n",
      "City not found. Skipping sentyabrskiy\n",
      "Processing Record 514 | nouadhibou\n",
      "Processing Record 515 | acarau\n",
      "Processing Record 516 | carnduff\n",
      "Processing Record 517 | dera bugti\n",
      "Processing Record 518 | norman wells\n",
      "Processing Record 519 | alice springs\n",
      "Processing Record 520 | biltine\n",
      "Processing Record 521 | northam\n",
      "Processing Record 522 | caracuaro\n",
      "Processing Record 523 | mahibadhoo\n",
      "Processing Record 524 | berbera\n",
      "Processing Record 525 | malakal\n",
      "Processing Record 526 | boyuibe\n",
      "Processing Record 527 | beruwala\n",
      "Processing Record 528 | vestmanna\n",
      "Processing Record 529 | bundaberg\n",
      "Processing Record 530 | saint-francois\n",
      "Processing Record 531 | mitsamiouli\n",
      "Processing Record 532 | luganville\n",
      "Processing Record 533 | maeriste\n",
      "Processing Record 534 | saint anthony\n",
      "Processing Record 535 | mayo\n",
      "Processing Record 536 | araci\n",
      "Processing Record 537 | nchelenge\n",
      "Processing Record 538 | tombouctou\n",
      "Processing Record 539 | portland\n",
      "City not found. Skipping bur gabo\n",
      "Processing Record 541 | roald\n",
      "Processing Record 542 | tsiroanomandidy\n",
      "Processing Record 543 | labelle\n",
      "Processing Record 544 | port lincoln\n",
      "Processing Record 545 | hervey bay\n",
      "Processing Record 546 | sayat\n",
      "Processing Record 547 | jizan\n",
      "Processing Record 548 | kirovskiy\n",
      "Processing Record 549 | kyzyl-suu\n",
      "Processing Record 550 | vista hermosa\n",
      "Processing Record 551 | tecoanapa\n",
      "Processing Record 552 | aswan\n",
      "Processing Record 553 | bubaque\n",
      "Processing Record 554 | labrea\n",
      "Processing Record 555 | cairns\n",
      "Processing Record 556 | margate\n",
      "Processing Record 557 | teguise\n",
      "Processing Record 558 | zyryanka\n",
      "Processing Record 559 | llano largo\n",
      "Processing Record 560 | caravelas\n",
      "Processing Record 561 | goderich\n",
      "Processing Record 562 | aguadilla\n",
      "Processing Record 563 | witu\n",
      "Processing Record 564 | tres arroyos\n",
      "Processing Record 565 | port hawkesbury\n",
      "Processing Record 566 | bardejov\n",
      "Processing Record 567 | berlevag\n",
      "Processing Record 568 | zvishavane\n",
      "City not found. Skipping saleaula\n",
      "Processing Record 570 | iralaya\n",
      "Processing Record 571 | santa cruz das palmeiras\n",
      "Processing Record 572 | slave lake\n",
      "Processing Record 573 | brokopondo\n",
      "City not found. Skipping westpunt\n",
      "Processing Record 575 | los alamos\n",
      "Processing Record 576 | lethem\n",
      "Processing Record 577 | puerto penasco\n",
      "Processing Record 578 | myre\n",
      "Processing Record 579 | xiongyue\n",
      "Processing Record 580 | yar-sale\n",
      "Processing Record 581 | batagay-alyta\n",
      "Processing Record 582 | hualmay\n",
      "Processing Record 583 | puerto leguizamo\n",
      "City not found. Skipping belushya guba\n",
      "Processing Record 585 | ramshir\n",
      "City not found. Skipping koboldo\n",
      "Processing Record 587 | murovani kurylivtsi\n",
      "Processing Record 588 | davila\n",
      "Processing Record 589 | san vicente de canete\n",
      "Processing Record 590 | saurimo\n",
      "Processing Record 591 | adre\n",
      "Processing Record 592 | tipuani\n",
      "Processing Record 593 | ambanja\n",
      "Processing Record 594 | yumen\n",
      "City not found. Skipping warqla\n",
      "Processing Record 596 | nelson\n",
      "Processing Record 597 | beasain\n",
      "Processing Record 598 | kuala lumpur\n",
      "Processing Record 599 | baruun-urt\n",
      "Processing Record 600 | lakselv\n",
      "Processing Record 601 | maragogi\n",
      "Processing Record 602 | wysokie mazowieckie\n",
      "Processing Record 603 | bontang\n",
      "Processing Record 604 | huinan\n",
      "Processing Record 605 | flin flon\n",
      "Processing Record 606 | palimbang\n",
      "Processing Record 607 | buala\n",
      "Processing Record 608 | yarmouth\n",
      "Processing Record 609 | turukhansk\n",
      "Processing Record 610 | elista\n",
      "Processing Record 611 | pacifica\n",
      "Processing Record 612 | aleksandrov gay\n",
      "Processing Record 613 | dali\n",
      "Processing Record 614 | pindiga\n",
      "Processing Record 615 | mount isa\n",
      "Processing Record 616 | sokolo\n",
      "Processing Record 617 | praxedis guerrero\n",
      "Processing Record 618 | vicosa\n",
      "Processing Record 619 | mabaruma\n",
      "Processing Record 620 | bud\n",
      "Processing Record 621 | kampot\n",
      "Processed 621 records.\n"
     ]
    }
   ],
   "source": [
    "# Setup connection information\n",
    "url = \"http://api.openweathermap.org/data/2.5/weather?\"\n",
    "units = \"imperial\"\n",
    "# Setup lists to hold reponse info\n",
    "lat = []\n",
    "lon = []\n",
    "temp = []\n",
    "cloudiness = []\n",
    "windspeed = []\n",
    "humidity = []\n",
    "maxtemp = []\n",
    "country = []\n",
    "date = []\n",
    "city_name = []\n",
    "\n",
    "# Build query URL\n",
    "query_url = f\"{url}appid={weather_api_key}&units={units}&q=\"\n",
    "\n",
    "print(\"Beginning Data Retrieval\")\n",
    "print(\"------------------------\")\n",
    "# Loop through the list of cities and perform a request for data on each\n",
    "for index, city in enumerate(cities):\n",
    "    #print(index, city)\n",
    "   try:\n",
    "        response = requests.get(query_url + city).json()\n",
    "        #print(json.dumps(response, indent=4, sort_keys=True))\n",
    "        city_name.append(response['name'])\n",
    "        lat.append(response['coord']['lat'])\n",
    "        lon.append(response['coord']['lon'])\n",
    "        temp.append(response['main']['temp'])\n",
    "        cloudiness.append(response['clouds']['all'])\n",
    "        windspeed.append(response['wind']['speed'])\n",
    "        humidity.append(response['main']['humidity'])\n",
    "        maxtemp.append(response['main']['temp_max'])\n",
    "        country.append(response['sys']['country'])\n",
    "        date.append(response['dt'])\n",
    "        print(f\"Processing Record {index} | {city}\")       \n",
    "   except KeyError:\n",
    "        print(f\"City not found. Skipping {city}\")        \n",
    "print(f\"Processed {index} records.\")\n"
   ]
  },
  {
   "cell_type": "markdown",
   "metadata": {},
   "source": [
    "### Convert Raw Data to DataFrame\n",
    "* Export the city data into a .csv.\n",
    "* Display the DataFrame"
   ]
  },
  {
   "cell_type": "code",
   "execution_count": 4,
   "metadata": {},
   "outputs": [],
   "source": [
    "# We now have the following lists:\n",
    "# cities, lat, lon, temp, cloudiness, windspeed, humidity, maxtemp, country, date\n",
    "# Now convert to a dataframe\n",
    "weather_df = pd.DataFrame({\"City\": city_name,\n",
    "                           \"Country\": country,\n",
    "                          \"Lat\": lat,\n",
    "                           \"Lon\": lon,\n",
    "                           \"Temp\": temp,\n",
    "                           \"Cloudiness(%)\": cloudiness,\n",
    "                           \"Windspeed\": windspeed,\n",
    "                           \"Humidity\": humidity,\n",
    "                           \"Max Temp\": maxtemp,\n",
    "                           \"Date\": date\n",
    "                          })\n",
    "# Send dataframe to CSV file\n",
    "weather_df.to_csv(\"City_Weather.csv\")\n"
   ]
  },
  {
   "cell_type": "code",
   "execution_count": 5,
   "metadata": {},
   "outputs": [
    {
     "data": {
      "text/html": [
       "<div>\n",
       "<style scoped>\n",
       "    .dataframe tbody tr th:only-of-type {\n",
       "        vertical-align: middle;\n",
       "    }\n",
       "\n",
       "    .dataframe tbody tr th {\n",
       "        vertical-align: top;\n",
       "    }\n",
       "\n",
       "    .dataframe thead th {\n",
       "        text-align: right;\n",
       "    }\n",
       "</style>\n",
       "<table border=\"1\" class=\"dataframe\">\n",
       "  <thead>\n",
       "    <tr style=\"text-align: right;\">\n",
       "      <th></th>\n",
       "      <th>City</th>\n",
       "      <th>Country</th>\n",
       "      <th>Lat</th>\n",
       "      <th>Lon</th>\n",
       "      <th>Temp</th>\n",
       "      <th>Cloudiness(%)</th>\n",
       "      <th>Windspeed</th>\n",
       "      <th>Humidity</th>\n",
       "      <th>Max Temp</th>\n",
       "      <th>Date</th>\n",
       "    </tr>\n",
       "  </thead>\n",
       "  <tbody>\n",
       "    <tr>\n",
       "      <th>0</th>\n",
       "      <td>Khovd</td>\n",
       "      <td>MN</td>\n",
       "      <td>48.01</td>\n",
       "      <td>91.64</td>\n",
       "      <td>44.4</td>\n",
       "      <td>96</td>\n",
       "      <td>2.28</td>\n",
       "      <td>46</td>\n",
       "      <td>44.4</td>\n",
       "      <td>1586917824</td>\n",
       "    </tr>\n",
       "    <tr>\n",
       "      <th>1</th>\n",
       "      <td>Faanui</td>\n",
       "      <td>PF</td>\n",
       "      <td>-16.48</td>\n",
       "      <td>-151.75</td>\n",
       "      <td>83.3</td>\n",
       "      <td>28</td>\n",
       "      <td>5.77</td>\n",
       "      <td>65</td>\n",
       "      <td>83.3</td>\n",
       "      <td>1586917397</td>\n",
       "    </tr>\n",
       "    <tr>\n",
       "      <th>2</th>\n",
       "      <td>Saint Paul Harbor</td>\n",
       "      <td>US</td>\n",
       "      <td>57.79</td>\n",
       "      <td>-152.41</td>\n",
       "      <td>42.8</td>\n",
       "      <td>90</td>\n",
       "      <td>8.05</td>\n",
       "      <td>87</td>\n",
       "      <td>42.8</td>\n",
       "      <td>1586917825</td>\n",
       "    </tr>\n",
       "    <tr>\n",
       "      <th>3</th>\n",
       "      <td>Tasiilaq</td>\n",
       "      <td>GL</td>\n",
       "      <td>65.61</td>\n",
       "      <td>-37.64</td>\n",
       "      <td>28.4</td>\n",
       "      <td>2</td>\n",
       "      <td>6.93</td>\n",
       "      <td>63</td>\n",
       "      <td>28.4</td>\n",
       "      <td>1586917825</td>\n",
       "    </tr>\n",
       "    <tr>\n",
       "      <th>4</th>\n",
       "      <td>Barrow</td>\n",
       "      <td>US</td>\n",
       "      <td>71.29</td>\n",
       "      <td>-156.79</td>\n",
       "      <td>12.2</td>\n",
       "      <td>90</td>\n",
       "      <td>14.99</td>\n",
       "      <td>85</td>\n",
       "      <td>12.2</td>\n",
       "      <td>1586917825</td>\n",
       "    </tr>\n",
       "  </tbody>\n",
       "</table>\n",
       "</div>"
      ],
      "text/plain": [
       "                City Country    Lat     Lon  Temp  Cloudiness(%)  Windspeed  \\\n",
       "0              Khovd      MN  48.01   91.64  44.4             96       2.28   \n",
       "1             Faanui      PF -16.48 -151.75  83.3             28       5.77   \n",
       "2  Saint Paul Harbor      US  57.79 -152.41  42.8             90       8.05   \n",
       "3           Tasiilaq      GL  65.61  -37.64  28.4              2       6.93   \n",
       "4             Barrow      US  71.29 -156.79  12.2             90      14.99   \n",
       "\n",
       "   Humidity  Max Temp        Date  \n",
       "0        46      44.4  1586917824  \n",
       "1        65      83.3  1586917397  \n",
       "2        87      42.8  1586917825  \n",
       "3        63      28.4  1586917825  \n",
       "4        85      12.2  1586917825  "
      ]
     },
     "execution_count": 5,
     "metadata": {},
     "output_type": "execute_result"
    }
   ],
   "source": [
    "# Display dataframe\n",
    "weather_df.head(5)\n",
    "\n",
    "# weather_df[weather_df[\"Humidity\"] > 100]\n",
    "# No rows returned for Humidity > 100"
   ]
  },
  {
   "cell_type": "markdown",
   "metadata": {},
   "source": [
    "## Inspect the data and remove the cities where the humidity > 100%.\n",
    "----\n",
    "Skip this step if there are no cities that have humidity > 100%. "
   ]
  },
  {
   "cell_type": "code",
   "execution_count": 6,
   "metadata": {},
   "outputs": [
    {
     "data": {
      "text/html": [
       "<div>\n",
       "<style scoped>\n",
       "    .dataframe tbody tr th:only-of-type {\n",
       "        vertical-align: middle;\n",
       "    }\n",
       "\n",
       "    .dataframe tbody tr th {\n",
       "        vertical-align: top;\n",
       "    }\n",
       "\n",
       "    .dataframe thead th {\n",
       "        text-align: right;\n",
       "    }\n",
       "</style>\n",
       "<table border=\"1\" class=\"dataframe\">\n",
       "  <thead>\n",
       "    <tr style=\"text-align: right;\">\n",
       "      <th></th>\n",
       "      <th>Lat</th>\n",
       "      <th>Lon</th>\n",
       "      <th>Temp</th>\n",
       "      <th>Cloudiness(%)</th>\n",
       "      <th>Windspeed</th>\n",
       "      <th>Humidity</th>\n",
       "      <th>Max Temp</th>\n",
       "      <th>Date</th>\n",
       "    </tr>\n",
       "  </thead>\n",
       "  <tbody>\n",
       "    <tr>\n",
       "      <th>count</th>\n",
       "      <td>579.000000</td>\n",
       "      <td>579.000000</td>\n",
       "      <td>579.000000</td>\n",
       "      <td>579.000000</td>\n",
       "      <td>579.000000</td>\n",
       "      <td>579.000000</td>\n",
       "      <td>579.000000</td>\n",
       "      <td>5.790000e+02</td>\n",
       "    </tr>\n",
       "    <tr>\n",
       "      <th>mean</th>\n",
       "      <td>19.586926</td>\n",
       "      <td>12.766822</td>\n",
       "      <td>59.526010</td>\n",
       "      <td>54.100173</td>\n",
       "      <td>8.048169</td>\n",
       "      <td>67.739206</td>\n",
       "      <td>60.161917</td>\n",
       "      <td>1.586918e+09</td>\n",
       "    </tr>\n",
       "    <tr>\n",
       "      <th>std</th>\n",
       "      <td>32.863393</td>\n",
       "      <td>91.094250</td>\n",
       "      <td>21.009737</td>\n",
       "      <td>37.592290</td>\n",
       "      <td>5.484487</td>\n",
       "      <td>22.166936</td>\n",
       "      <td>20.883325</td>\n",
       "      <td>1.659916e+02</td>\n",
       "    </tr>\n",
       "    <tr>\n",
       "      <th>min</th>\n",
       "      <td>-54.800000</td>\n",
       "      <td>-175.200000</td>\n",
       "      <td>-2.200000</td>\n",
       "      <td>0.000000</td>\n",
       "      <td>0.600000</td>\n",
       "      <td>9.000000</td>\n",
       "      <td>-2.200000</td>\n",
       "      <td>1.586917e+09</td>\n",
       "    </tr>\n",
       "    <tr>\n",
       "      <th>25%</th>\n",
       "      <td>-7.605000</td>\n",
       "      <td>-68.550000</td>\n",
       "      <td>43.350000</td>\n",
       "      <td>20.000000</td>\n",
       "      <td>3.940000</td>\n",
       "      <td>55.000000</td>\n",
       "      <td>44.600000</td>\n",
       "      <td>1.586918e+09</td>\n",
       "    </tr>\n",
       "    <tr>\n",
       "      <th>50%</th>\n",
       "      <td>20.510000</td>\n",
       "      <td>15.160000</td>\n",
       "      <td>62.040000</td>\n",
       "      <td>62.000000</td>\n",
       "      <td>6.930000</td>\n",
       "      <td>72.000000</td>\n",
       "      <td>62.600000</td>\n",
       "      <td>1.586918e+09</td>\n",
       "    </tr>\n",
       "    <tr>\n",
       "      <th>75%</th>\n",
       "      <td>47.080000</td>\n",
       "      <td>96.865000</td>\n",
       "      <td>77.665000</td>\n",
       "      <td>90.000000</td>\n",
       "      <td>10.840000</td>\n",
       "      <td>86.000000</td>\n",
       "      <td>78.270000</td>\n",
       "      <td>1.586918e+09</td>\n",
       "    </tr>\n",
       "    <tr>\n",
       "      <th>max</th>\n",
       "      <td>78.220000</td>\n",
       "      <td>179.320000</td>\n",
       "      <td>93.200000</td>\n",
       "      <td>100.000000</td>\n",
       "      <td>35.010000</td>\n",
       "      <td>100.000000</td>\n",
       "      <td>93.200000</td>\n",
       "      <td>1.586918e+09</td>\n",
       "    </tr>\n",
       "  </tbody>\n",
       "</table>\n",
       "</div>"
      ],
      "text/plain": [
       "              Lat         Lon        Temp  Cloudiness(%)   Windspeed  \\\n",
       "count  579.000000  579.000000  579.000000     579.000000  579.000000   \n",
       "mean    19.586926   12.766822   59.526010      54.100173    8.048169   \n",
       "std     32.863393   91.094250   21.009737      37.592290    5.484487   \n",
       "min    -54.800000 -175.200000   -2.200000       0.000000    0.600000   \n",
       "25%     -7.605000  -68.550000   43.350000      20.000000    3.940000   \n",
       "50%     20.510000   15.160000   62.040000      62.000000    6.930000   \n",
       "75%     47.080000   96.865000   77.665000      90.000000   10.840000   \n",
       "max     78.220000  179.320000   93.200000     100.000000   35.010000   \n",
       "\n",
       "         Humidity    Max Temp          Date  \n",
       "count  579.000000  579.000000  5.790000e+02  \n",
       "mean    67.739206   60.161917  1.586918e+09  \n",
       "std     22.166936   20.883325  1.659916e+02  \n",
       "min      9.000000   -2.200000  1.586917e+09  \n",
       "25%     55.000000   44.600000  1.586918e+09  \n",
       "50%     72.000000   62.600000  1.586918e+09  \n",
       "75%     86.000000   78.270000  1.586918e+09  \n",
       "max    100.000000   93.200000  1.586918e+09  "
      ]
     },
     "execution_count": 6,
     "metadata": {},
     "output_type": "execute_result"
    }
   ],
   "source": [
    "weather_df.describe()"
   ]
  },
  {
   "cell_type": "code",
   "execution_count": 7,
   "metadata": {},
   "outputs": [],
   "source": [
    "#  Get the indices of cities that have humidity over 100%.\n",
    "# There are no cities with humidity over 100%.\n",
    "# There are cities with humidity = 100%\n"
   ]
  },
  {
   "cell_type": "code",
   "execution_count": 8,
   "metadata": {},
   "outputs": [
    {
     "data": {
      "text/html": [
       "<div>\n",
       "<style scoped>\n",
       "    .dataframe tbody tr th:only-of-type {\n",
       "        vertical-align: middle;\n",
       "    }\n",
       "\n",
       "    .dataframe tbody tr th {\n",
       "        vertical-align: top;\n",
       "    }\n",
       "\n",
       "    .dataframe thead th {\n",
       "        text-align: right;\n",
       "    }\n",
       "</style>\n",
       "<table border=\"1\" class=\"dataframe\">\n",
       "  <thead>\n",
       "    <tr style=\"text-align: right;\">\n",
       "      <th></th>\n",
       "      <th>City</th>\n",
       "      <th>Country</th>\n",
       "      <th>Lat</th>\n",
       "      <th>Lon</th>\n",
       "      <th>Temp</th>\n",
       "      <th>Cloudiness(%)</th>\n",
       "      <th>Windspeed</th>\n",
       "      <th>Humidity</th>\n",
       "      <th>Max Temp</th>\n",
       "      <th>Date</th>\n",
       "    </tr>\n",
       "  </thead>\n",
       "  <tbody>\n",
       "    <tr>\n",
       "      <th>0</th>\n",
       "      <td>Khovd</td>\n",
       "      <td>MN</td>\n",
       "      <td>48.01</td>\n",
       "      <td>91.64</td>\n",
       "      <td>44.4</td>\n",
       "      <td>96</td>\n",
       "      <td>2.28</td>\n",
       "      <td>46</td>\n",
       "      <td>44.4</td>\n",
       "      <td>1586917824</td>\n",
       "    </tr>\n",
       "    <tr>\n",
       "      <th>1</th>\n",
       "      <td>Faanui</td>\n",
       "      <td>PF</td>\n",
       "      <td>-16.48</td>\n",
       "      <td>-151.75</td>\n",
       "      <td>83.3</td>\n",
       "      <td>28</td>\n",
       "      <td>5.77</td>\n",
       "      <td>65</td>\n",
       "      <td>83.3</td>\n",
       "      <td>1586917397</td>\n",
       "    </tr>\n",
       "    <tr>\n",
       "      <th>2</th>\n",
       "      <td>Saint Paul Harbor</td>\n",
       "      <td>US</td>\n",
       "      <td>57.79</td>\n",
       "      <td>-152.41</td>\n",
       "      <td>42.8</td>\n",
       "      <td>90</td>\n",
       "      <td>8.05</td>\n",
       "      <td>87</td>\n",
       "      <td>42.8</td>\n",
       "      <td>1586917825</td>\n",
       "    </tr>\n",
       "    <tr>\n",
       "      <th>3</th>\n",
       "      <td>Tasiilaq</td>\n",
       "      <td>GL</td>\n",
       "      <td>65.61</td>\n",
       "      <td>-37.64</td>\n",
       "      <td>28.4</td>\n",
       "      <td>2</td>\n",
       "      <td>6.93</td>\n",
       "      <td>63</td>\n",
       "      <td>28.4</td>\n",
       "      <td>1586917825</td>\n",
       "    </tr>\n",
       "    <tr>\n",
       "      <th>4</th>\n",
       "      <td>Barrow</td>\n",
       "      <td>US</td>\n",
       "      <td>71.29</td>\n",
       "      <td>-156.79</td>\n",
       "      <td>12.2</td>\n",
       "      <td>90</td>\n",
       "      <td>14.99</td>\n",
       "      <td>85</td>\n",
       "      <td>12.2</td>\n",
       "      <td>1586917825</td>\n",
       "    </tr>\n",
       "  </tbody>\n",
       "</table>\n",
       "</div>"
      ],
      "text/plain": [
       "                City Country    Lat     Lon  Temp  Cloudiness(%)  Windspeed  \\\n",
       "0              Khovd      MN  48.01   91.64  44.4             96       2.28   \n",
       "1             Faanui      PF -16.48 -151.75  83.3             28       5.77   \n",
       "2  Saint Paul Harbor      US  57.79 -152.41  42.8             90       8.05   \n",
       "3           Tasiilaq      GL  65.61  -37.64  28.4              2       6.93   \n",
       "4             Barrow      US  71.29 -156.79  12.2             90      14.99   \n",
       "\n",
       "   Humidity  Max Temp        Date  \n",
       "0        46      44.4  1586917824  \n",
       "1        65      83.3  1586917397  \n",
       "2        87      42.8  1586917825  \n",
       "3        63      28.4  1586917825  \n",
       "4        85      12.2  1586917825  "
      ]
     },
     "execution_count": 8,
     "metadata": {},
     "output_type": "execute_result"
    }
   ],
   "source": [
    "# Make a new DataFrame equal to the city data to drop all humidity outliers by index.\n",
    "# Passing \"inplace=False\" will make a copy of the city_data DataFrame, which we call \"clean_city_data\".\n",
    "clean_city_data = weather_df\n",
    "clean_city_data.head()"
   ]
  },
  {
   "cell_type": "code",
   "execution_count": 9,
   "metadata": {},
   "outputs": [],
   "source": [
    "# Extract relevant fields from the data frame\n",
    "latitude = [clean_city_data[\"Lat\"]]\n",
    "temperature = [clean_city_data[\"Temp\"]]\n",
    "humidity = [clean_city_data[\"Humidity\"]]\n",
    "cloudiness = [clean_city_data[\"Cloudiness(%)\"]]\n",
    "windspeed = [clean_city_data[\"Windspeed\"]]\n",
    "\n",
    "# Export the City_Data into a csv\n",
    "clean_city_data.to_csv(\"City_Data.csv\")"
   ]
  },
  {
   "cell_type": "markdown",
   "metadata": {},
   "source": [
    "## Plotting the Data\n",
    "* Use proper labeling of the plots using plot titles (including date of analysis) and axes labels.\n",
    "* Save the plotted figures as .pngs."
   ]
  },
  {
   "cell_type": "markdown",
   "metadata": {},
   "source": [
    "## Latitude vs. Temperature Plot"
   ]
  },
  {
   "cell_type": "code",
   "execution_count": 10,
   "metadata": {
    "scrolled": true
   },
   "outputs": [
    {
     "data": {
      "image/png": "[encoded data removed]",
      "text/plain": [
       "<Figure size 432x288 with 1 Axes>"
      ]
     },
     "metadata": {
      "needs_background": "light"
     },
     "output_type": "display_data"
    },
    {
     "name": "stdout",
     "output_type": "stream",
     "text": [
      "This graph shows Latitude vs Max temperature for the given cities.\n",
      "As you can see, the closer to the equator (0), the warmer the max temperature\n",
      "It is also shown, the further north you go (>0), the colder the max temperature as\n",
      "compared to the southern hemisphere (<0)\n"
     ]
    }
   ],
   "source": [
    "plt.scatter(latitude, temperature, marker=\"o\", facecolors=\"blue\", edgecolors=\"black\")\n",
    "plt.title(\"City Latitude vs Max Temperature (4/14/2020)\")\n",
    "plt.xlabel(\"Latitude\")\n",
    "plt.ylabel(\"Temperature (F)\")\n",
    "plt.grid()\n",
    "plt.savefig(\"temp_vs_latitude.png\")\n",
    "plt.show()\n",
    "\n",
    "print(\"This graph shows Latitude vs Max temperature for the given cities.\")\n",
    "print(\"As you can see, the closer to the equator (0), the warmer the max temperature\")\n",
    "print(\"It is also shown, the further north you go (>0), the colder the max temperature as\")\n",
    "print(\"compared to the southern hemisphere (<0)\")"
   ]
  },
  {
   "cell_type": "markdown",
   "metadata": {},
   "source": [
    "## Latitude vs. Humidity Plot"
   ]
  },
  {
   "cell_type": "code",
   "execution_count": 11,
   "metadata": {},
   "outputs": [
    {
     "data": {
      "image/png": "[encoded data removed]",
      "text/plain": [
       "<Figure size 432x288 with 1 Axes>"
      ]
     },
     "metadata": {
      "needs_background": "light"
     },
     "output_type": "display_data"
    },
    {
     "name": "stdout",
     "output_type": "stream",
     "text": [
      "This graph represents latitude vs humidity.\n",
      "As you can see from the graph, there is no pattern\n",
      "relating humidity to latitude.\n"
     ]
    }
   ],
   "source": [
    "plt.scatter(latitude, humidity, marker=\"o\", facecolors=\"blue\", edgecolors=\"black\")\n",
    "plt.title(\"City Latitude vs Humidity (4/14/2020)\")\n",
    "plt.xlabel(\"Latitude\")\n",
    "plt.ylabel(\"Humidity\")\n",
    "plt.grid()\n",
    "plt.savefig(\"humidity_vs_latitude.png\")\n",
    "plt.show()\n",
    "\n",
    "print(\"This graph represents latitude vs humidity.\")\n",
    "print(\"As you can see from the graph, there is no pattern\")\n",
    "print(\"relating humidity to latitude.\")"
   ]
  },
  {
   "cell_type": "markdown",
   "metadata": {},
   "source": [
    "## Latitude vs. Cloudiness Plot"
   ]
  },
  {
   "cell_type": "code",
   "execution_count": 12,
   "metadata": {},
   "outputs": [
    {
     "data": {
      "image/png": "[encoded data removed]",
      "text/plain": [
       "<Figure size 432x288 with 1 Axes>"
      ]
     },
     "metadata": {
      "needs_background": "light"
     },
     "output_type": "display_data"
    },
    {
     "name": "stdout",
     "output_type": "stream",
     "text": [
      "This graph represents latitude vs cloudiness.\n",
      "As you can see from the graph, there is no pattern\n",
      "relating cloudiness to latitude.\n"
     ]
    }
   ],
   "source": [
    "plt.scatter(latitude, cloudiness, marker=\"o\", facecolors=\"blue\", edgecolors=\"black\")\n",
    "plt.title(\"City Latitude vs Cloudiness (4/14/2020)\")\n",
    "plt.xlabel(\"Latitude\")\n",
    "plt.ylabel(\"cloudiness\")\n",
    "plt.grid()\n",
    "plt.savefig(\"cloudiness_vs_latitude.png\")\n",
    "plt.show()\n",
    "\n",
    "print(\"This graph represents latitude vs cloudiness.\")\n",
    "print(\"As you can see from the graph, there is no pattern\")\n",
    "print(\"relating cloudiness to latitude.\")"
   ]
  },
  {
   "cell_type": "markdown",
   "metadata": {},
   "source": [
    "## Latitude vs. Wind Speed Plot"
   ]
  },
  {
   "cell_type": "code",
   "execution_count": 13,
   "metadata": {},
   "outputs": [
    {
     "data": {
      "image/png": "[encoded data removed]",
      "text/plain": [
       "<Figure size 432x288 with 1 Axes>"
      ]
     },
     "metadata": {
      "needs_background": "light"
     },
     "output_type": "display_data"
    },
    {
     "name": "stdout",
     "output_type": "stream",
     "text": [
      "This graph represents latitude vs wind speed.\n",
      "As you can see from the graph, there is no pattern\n",
      "relating wind speed to latitude.\n"
     ]
    }
   ],
   "source": [
    "plt.scatter(latitude, windspeed, marker=\"o\", facecolors=\"blue\", edgecolors=\"black\")\n",
    "plt.title(\"City Latitude vs Windspeed (4/14/2020)\")\n",
    "plt.xlabel(\"Latitude\")\n",
    "plt.ylabel(\"windspeed\")\n",
    "plt.grid()\n",
    "plt.savefig(\"windspeed_vs_latitude.png\")\n",
    "plt.show()\n",
    "\n",
    "print(\"This graph represents latitude vs wind speed.\")\n",
    "print(\"As you can see from the graph, there is no pattern\")\n",
    "print(\"relating wind speed to latitude.\")"
   ]
  },
  {
   "cell_type": "markdown",
   "metadata": {},
   "source": [
    "## Linear Regression"
   ]
  },
  {
   "cell_type": "code",
   "execution_count": 14,
   "metadata": {},
   "outputs": [],
   "source": [
    "# OPTIONAL: Create a function to create Linear Regression plots"
   ]
  },
  {
   "cell_type": "code",
   "execution_count": 22,
   "metadata": {},
   "outputs": [
    {
     "data": {
      "text/html": [
       "<div>\n",
       "<style scoped>\n",
       "    .dataframe tbody tr th:only-of-type {\n",
       "        vertical-align: middle;\n",
       "    }\n",
       "\n",
       "    .dataframe tbody tr th {\n",
       "        vertical-align: top;\n",
       "    }\n",
       "\n",
       "    .dataframe thead th {\n",
       "        text-align: right;\n",
       "    }\n",
       "</style>\n",
       "<table border=\"1\" class=\"dataframe\">\n",
       "  <thead>\n",
       "    <tr style=\"text-align: right;\">\n",
       "      <th></th>\n",
       "      <th>City</th>\n",
       "      <th>Country</th>\n",
       "      <th>Lat</th>\n",
       "      <th>Lon</th>\n",
       "      <th>Temp</th>\n",
       "      <th>Cloudiness(%)</th>\n",
       "      <th>Windspeed</th>\n",
       "      <th>Humidity</th>\n",
       "      <th>Max Temp</th>\n",
       "      <th>Date</th>\n",
       "    </tr>\n",
       "  </thead>\n",
       "  <tbody>\n",
       "    <tr>\n",
       "      <th>0</th>\n",
       "      <td>Khovd</td>\n",
       "      <td>MN</td>\n",
       "      <td>48.01</td>\n",
       "      <td>91.64</td>\n",
       "      <td>44.40</td>\n",
       "      <td>96</td>\n",
       "      <td>2.28</td>\n",
       "      <td>46</td>\n",
       "      <td>44.40</td>\n",
       "      <td>1586917824</td>\n",
       "    </tr>\n",
       "    <tr>\n",
       "      <th>2</th>\n",
       "      <td>Saint Paul Harbor</td>\n",
       "      <td>US</td>\n",
       "      <td>57.79</td>\n",
       "      <td>-152.41</td>\n",
       "      <td>42.80</td>\n",
       "      <td>90</td>\n",
       "      <td>8.05</td>\n",
       "      <td>87</td>\n",
       "      <td>42.80</td>\n",
       "      <td>1586917825</td>\n",
       "    </tr>\n",
       "    <tr>\n",
       "      <th>3</th>\n",
       "      <td>Tasiilaq</td>\n",
       "      <td>GL</td>\n",
       "      <td>65.61</td>\n",
       "      <td>-37.64</td>\n",
       "      <td>28.40</td>\n",
       "      <td>2</td>\n",
       "      <td>6.93</td>\n",
       "      <td>63</td>\n",
       "      <td>28.40</td>\n",
       "      <td>1586917825</td>\n",
       "    </tr>\n",
       "    <tr>\n",
       "      <th>4</th>\n",
       "      <td>Barrow</td>\n",
       "      <td>US</td>\n",
       "      <td>71.29</td>\n",
       "      <td>-156.79</td>\n",
       "      <td>12.20</td>\n",
       "      <td>90</td>\n",
       "      <td>14.99</td>\n",
       "      <td>85</td>\n",
       "      <td>12.20</td>\n",
       "      <td>1586917825</td>\n",
       "    </tr>\n",
       "    <tr>\n",
       "      <th>5</th>\n",
       "      <td>Puerto Ayacucho</td>\n",
       "      <td>VE</td>\n",
       "      <td>5.66</td>\n",
       "      <td>-67.62</td>\n",
       "      <td>79.29</td>\n",
       "      <td>63</td>\n",
       "      <td>4.76</td>\n",
       "      <td>48</td>\n",
       "      <td>79.29</td>\n",
       "      <td>1586917826</td>\n",
       "    </tr>\n",
       "  </tbody>\n",
       "</table>\n",
       "</div>"
      ],
      "text/plain": [
       "                City Country    Lat     Lon   Temp  Cloudiness(%)  Windspeed  \\\n",
       "0              Khovd      MN  48.01   91.64  44.40             96       2.28   \n",
       "2  Saint Paul Harbor      US  57.79 -152.41  42.80             90       8.05   \n",
       "3           Tasiilaq      GL  65.61  -37.64  28.40              2       6.93   \n",
       "4             Barrow      US  71.29 -156.79  12.20             90      14.99   \n",
       "5    Puerto Ayacucho      VE   5.66  -67.62  79.29             63       4.76   \n",
       "\n",
       "   Humidity  Max Temp        Date  \n",
       "0        46     44.40  1586917824  \n",
       "2        87     42.80  1586917825  \n",
       "3        63     28.40  1586917825  \n",
       "4        85     12.20  1586917825  \n",
       "5        48     79.29  1586917826  "
      ]
     },
     "execution_count": 22,
     "metadata": {},
     "output_type": "execute_result"
    }
   ],
   "source": [
    "# Create Northern and Southern Hemisphere DataFrames\n",
    "#clean_city_data\n",
    "northern_df = clean_city_data[clean_city_data[\"Lat\"] > 0]\n",
    "southern_df = clean_city_data[clean_city_data[\"Lat\"] < 0]\n",
    "\n",
    "northern_df.head()"
   ]
  },
  {
   "cell_type": "markdown",
   "metadata": {},
   "source": [
    "####  Northern Hemisphere - Max Temp vs. Latitude Linear Regression"
   ]
  },
  {
   "cell_type": "code",
   "execution_count": 16,
   "metadata": {},
   "outputs": [
    {
     "name": "stdout",
     "output_type": "stream",
     "text": [
      "The r-squared is: 0.814680581994758\n"
     ]
    },
    {
     "data": {
      "image/png": "[encoded data removed]",
      "text/plain": [
       "<Figure size 432x288 with 1 Axes>"
      ]
     },
     "metadata": {
      "needs_background": "light"
     },
     "output_type": "display_data"
    }
   ],
   "source": [
    "north_lat = northern_df[\"Lat\"]\n",
    "north_temp = northern_df[\"Temp\"]\n",
    "(slope, intercept, rvalue, pvalue, stderr) = linregress(north_lat, north_temp)\n",
    "\n",
    "regress_values = north_lat * slope + intercept\n",
    "line_eq = \"y = \" + str(round(slope,2)) + \"x + \" + str(round(intercept,2))\n",
    "plt.scatter(north_lat, north_temp, marker=\"o\", facecolors=\"blue\", edgecolors=\"black\")\n",
    "plt.plot(north_lat,regress_values,\"r-\")\n",
    "plt.annotate(line_eq,(6,10),fontsize=15,color=\"red\")\n",
    "plt.title(\"Northern Hemisphere City Latitude vs Max Temperature (4/14/2020)\")\n",
    "plt.xlabel(\"Latitude\")\n",
    "plt.ylabel(\"Temperature (F)\")\n",
    "plt.grid()\n",
    "plt.savefig(\"temp_vs_north_latitude.png\")\n",
    "print(f\"The r-squared is: {rvalue**2}\")\n",
    "plt.show()\n"
   ]
  },
  {
   "cell_type": "markdown",
   "metadata": {},
   "source": [
    "####  Southern Hemisphere - Max Temp vs. Latitude Linear Regression"
   ]
  },
  {
   "cell_type": "code",
   "execution_count": 42,
   "metadata": {},
   "outputs": [
    {
     "name": "stdout",
     "output_type": "stream",
     "text": [
      "The r-squared is: 0.4651354359812336\n"
     ]
    },
    {
     "data": {
      "image/png": "[encoded data removed]",
      "text/plain": [
       "<Figure size 432x288 with 1 Axes>"
      ]
     },
     "metadata": {
      "needs_background": "light"
     },
     "output_type": "display_data"
    },
    {
     "name": "stdout",
     "output_type": "stream",
     "text": [
      "These two plots show the relationship between latitude and temperature.\n",
      "As you can see, the closer you get to the equator (0), the higher the temperature.\n",
      "This holds true for both north and south latitudes.\n"
     ]
    }
   ],
   "source": [
    "south_lat = southern_df[\"Lat\"]\n",
    "south_temp = southern_df[\"Temp\"]\n",
    "(slope, intercept, rvalue, pvalue, stderr) = linregress(south_lat, south_temp)\n",
    "\n",
    "regress_values = south_lat * slope + intercept\n",
    "\n",
    "line_eq = \"y = \" + str(round(slope,2)) + \"x + \" + str(round(intercept,2))\n",
    "plt.scatter(south_lat, south_temp, marker=\"o\", facecolors=\"blue\", edgecolors=\"black\")\n",
    "plt.plot(south_lat,regress_values,\"r-\")\n",
    "plt.annotate(line_eq,(-55, 90),fontsize=15,color=\"red\")\n",
    "plt.title(\"Southern Hemisphere City Latitude vs Max Temperature (4/14/2020)\")\n",
    "plt.xlabel(\"Latitude\")\n",
    "plt.ylabel(\"Temperature (F)\")\n",
    "plt.grid()\n",
    "plt.savefig(\"temp_vs_south_latitude.png\")\n",
    "print(f\"The r-squared is: {rvalue**2}\")\n",
    "plt.show()\n",
    "\n",
    "print(\"These two plots show the relationship between latitude and temperature.\")\n",
    "print(\"As you can see, the closer you get to the equator (0), the higher the temperature.\")\n",
    "print(\"This holds true for both north and south latitudes.\")"
   ]
  },
  {
   "cell_type": "markdown",
   "metadata": {},
   "source": [
    "####  Northern Hemisphere - Humidity (%) vs. Latitude Linear Regression"
   ]
  },
  {
   "cell_type": "code",
   "execution_count": 25,
   "metadata": {},
   "outputs": [
    {
     "name": "stdout",
     "output_type": "stream",
     "text": [
      "The r-squared is: 0.09274734709084867\n"
     ]
    },
    {
     "data": {
      "image/png": "[encoded data removed]",
      "text/plain": [
       "<Figure size 432x288 with 1 Axes>"
      ]
     },
     "metadata": {
      "needs_background": "light"
     },
     "output_type": "display_data"
    }
   ],
   "source": [
    "north_lat = northern_df[\"Lat\"]\n",
    "north_hum = northern_df[\"Humidity\"]\n",
    "(slope, intercept, rvalue, pvalue, stderr) = linregress(north_lat, north_hum)\n",
    "\n",
    "regress_values = north_lat * slope + intercept\n",
    "line_eq = \"y = \" + str(round(slope,2)) + \"x + \" + str(round(intercept,2))\n",
    "plt.scatter(north_lat, north_hum, marker=\"o\", facecolors=\"blue\", edgecolors=\"black\")\n",
    "plt.plot(north_lat,regress_values,\"r-\")\n",
    "plt.annotate(line_eq,(40,10),fontsize=15,color=\"red\")\n",
    "plt.title(\"Northern Hemisphere City Latitude vs Humidity (4/14/2020)\")\n",
    "plt.xlabel(\"Latitude\")\n",
    "plt.ylabel(\"Humidity\")\n",
    "plt.grid()\n",
    "plt.savefig(\"humidity_vs_north_latitude.png\")\n",
    "print(f\"The r-squared is: {rvalue**2}\")\n",
    "plt.show()"
   ]
  },
  {
   "cell_type": "markdown",
   "metadata": {},
   "source": [
    "####  Southern Hemisphere - Humidity (%) vs. Latitude Linear Regression"
   ]
  },
  {
   "cell_type": "code",
   "execution_count": 28,
   "metadata": {},
   "outputs": [
    {
     "name": "stdout",
     "output_type": "stream",
     "text": [
      "The r-squared is: 0.008964018503388505\n"
     ]
    },
    {
     "data": {
      "image/png": "[encoded data removed]",
      "text/plain": [
       "<Figure size 432x288 with 1 Axes>"
      ]
     },
     "metadata": {
      "needs_background": "light"
     },
     "output_type": "display_data"
    }
   ],
   "source": [
    "south_lat = southern_df[\"Lat\"]\n",
    "south_hum = southern_df[\"Humidity\"]\n",
    "(slope, intercept, rvalue, pvalue, stderr) = linregress(south_lat, south_hum)\n",
    "\n",
    "regress_values = south_lat * slope + intercept\n",
    "line_eq = \"y = \" + str(round(slope,2)) + \"x + \" + str(round(intercept,2))\n",
    "plt.scatter(south_lat, south_hum, marker=\"o\", facecolors=\"blue\", edgecolors=\"black\")\n",
    "plt.plot(south_lat,regress_values,\"r-\")\n",
    "plt.annotate(line_eq,(-55,20),fontsize=15,color=\"red\")\n",
    "plt.title(\"Southern Hemisphere City Latitude vs Humidity (4/14/2020)\")\n",
    "plt.xlabel(\"Latitude\")\n",
    "plt.ylabel(\"Humidity\")\n",
    "plt.grid()\n",
    "plt.savefig(\"humidity_vs_south_latitude.png\")\n",
    "print(f\"The r-squared is: {rvalue**2}\")\n",
    "plt.show()"
   ]
  },
  {
   "cell_type": "markdown",
   "metadata": {},
   "source": [
    "####  Northern Hemisphere - Cloudiness (%) vs. Latitude Linear Regression"
   ]
  },
  {
   "cell_type": "code",
   "execution_count": 29,
   "metadata": {},
   "outputs": [
    {
     "name": "stdout",
     "output_type": "stream",
     "text": [
      "The r-squared is: 0.0702446051730472\n"
     ]
    },
    {
     "data": {
      "image/png": "[encoded data removed]",
      "text/plain": [
       "<Figure size 432x288 with 1 Axes>"
      ]
     },
     "metadata": {
      "needs_background": "light"
     },
     "output_type": "display_data"
    }
   ],
   "source": [
    "north_lat = northern_df[\"Lat\"]\n",
    "north_cloud = northern_df[\"Cloudiness(%)\"]\n",
    "(slope, intercept, rvalue, pvalue, stderr) = linregress(north_lat, north_cloud)\n",
    "\n",
    "regress_values = north_lat * slope + intercept\n",
    "line_eq = \"y = \" + str(round(slope,2)) + \"x + \" + str(round(intercept,2))\n",
    "plt.scatter(north_lat, north_cloud, marker=\"o\", facecolors=\"blue\", edgecolors=\"black\")\n",
    "plt.plot(north_lat,regress_values,\"r-\")\n",
    "plt.annotate(line_eq,(40,10),fontsize=15,color=\"red\")\n",
    "plt.title(\"Northern Hemisphere City Latitude vs Cloudiness(%) (4/14/2020)\")\n",
    "plt.xlabel(\"Latitude\")\n",
    "plt.ylabel(\"Cloudiness(%)\")\n",
    "plt.grid()\n",
    "plt.savefig(\"cloudiness_vs_north_latitude.png\")\n",
    "print(f\"The r-squared is: {rvalue**2}\")\n",
    "plt.show()"
   ]
  },
  {
   "cell_type": "markdown",
   "metadata": {},
   "source": [
    "####  Southern Hemisphere - Cloudiness (%) vs. Latitude Linear Regression"
   ]
  },
  {
   "cell_type": "code",
   "execution_count": 43,
   "metadata": {},
   "outputs": [
    {
     "name": "stdout",
     "output_type": "stream",
     "text": [
      "The r-squared is: 0.0011249212630405707\n"
     ]
    },
    {
     "data": {
      "image/png": "[encoded data removed]",
      "text/plain": [
       "<Figure size 432x288 with 1 Axes>"
      ]
     },
     "metadata": {
      "needs_background": "light"
     },
     "output_type": "display_data"
    },
    {
     "name": "stdout",
     "output_type": "stream",
     "text": [
      "Northern Hemisphere cities, tend to have a higher cloudiness(%) the further\n",
      "you travel from the equator.  Southern Hemisphere cities follow the same pattern,\n",
      "although, to a lesser degree.\n"
     ]
    }
   ],
   "source": [
    "south_lat = southern_df[\"Lat\"]\n",
    "south_cloud = southern_df[\"Cloudiness(%)\"]\n",
    "(slope, intercept, rvalue, pvalue, stderr) = linregress(south_lat, south_cloud)\n",
    "\n",
    "regress_values = south_lat * slope + intercept\n",
    "\n",
    "line_eq = \"y = \" + str(round(slope,2)) + \"x + \" + str(round(intercept,2))\n",
    "plt.scatter(south_lat, south_cloud, marker=\"o\", facecolors=\"blue\", edgecolors=\"black\")\n",
    "plt.plot(south_lat,regress_values,\"r-\")\n",
    "plt.annotate(line_eq,(-56, 22),fontsize=15,color=\"red\")\n",
    "plt.title(\"Southern Hemisphere City Latitude vs Cloudiness (4/14/2020)\")\n",
    "plt.xlabel(\"Latitude\")\n",
    "plt.ylabel(\"Cloudiness(%)\")\n",
    "plt.grid()\n",
    "plt.savefig(\"cloudiness_vs_south_latitude.png\")\n",
    "print(f\"The r-squared is: {rvalue**2}\")\n",
    "plt.show()\n",
    "\n",
    "print(\"Northern Hemisphere cities, tend to have a higher cloudiness(%) the further\")\n",
    "print(\"you travel from the equator.  Southern Hemisphere cities follow the same pattern,\")\n",
    "print(\"although, to a lesser degree.\")"
   ]
  },
  {
   "cell_type": "markdown",
   "metadata": {},
   "source": [
    "####  Northern Hemisphere - Wind Speed (mph) vs. Latitude Linear Regression"
   ]
  },
  {
   "cell_type": "code",
   "execution_count": 39,
   "metadata": {},
   "outputs": [
    {
     "name": "stdout",
     "output_type": "stream",
     "text": [
      "The r-squared is: 0.038807542613269484\n"
     ]
    },
    {
     "data": {
      "image/png": "[encoded data removed]",
      "text/plain": [
       "<Figure size 432x288 with 1 Axes>"
      ]
     },
     "metadata": {
      "needs_background": "light"
     },
     "output_type": "display_data"
    }
   ],
   "source": [
    "north_lat = northern_df[\"Lat\"]\n",
    "north_wind = northern_df[\"Windspeed\"]\n",
    "(slope, intercept, rvalue, pvalue, stderr) = linregress(north_lat, north_wind)\n",
    "\n",
    "regress_values = north_lat * slope + intercept\n",
    "line_eq = \"y = \" + str(round(slope,2)) + \"x + \" + str(round(intercept,2))\n",
    "plt.scatter(north_lat, north_wind, marker=\"o\", facecolors=\"blue\", edgecolors=\"black\")\n",
    "plt.plot(north_lat,regress_values,\"r-\")\n",
    "plt.annotate(line_eq,(0,30),fontsize=15,color=\"red\")\n",
    "plt.title(\"Northern Hemisphere City Latitude vs Windspeed(MPH) (4/14/2020)\")\n",
    "plt.xlabel(\"Latitude\")\n",
    "plt.ylabel(\"Windspeed (MPH)\")\n",
    "plt.grid()\n",
    "plt.savefig(\"windspeed_vs_north_latitude.png\")\n",
    "print(f\"The r-squared is: {rvalue**2}\")\n",
    "plt.show()"
   ]
  },
  {
   "cell_type": "markdown",
   "metadata": {},
   "source": [
    "####  Southern Hemisphere - Wind Speed (mph) vs. Latitude Linear Regression"
   ]
  },
  {
   "cell_type": "code",
   "execution_count": 44,
   "metadata": {},
   "outputs": [
    {
     "name": "stdout",
     "output_type": "stream",
     "text": [
      "The r-squared is: 0.056056893739299736\n"
     ]
    },
    {
     "data": {
      "image/png": "[encoded data removed]",
      "text/plain": [
       "<Figure size 432x288 with 1 Axes>"
      ]
     },
     "metadata": {
      "needs_background": "light"
     },
     "output_type": "display_data"
    },
    {
     "name": "stdout",
     "output_type": "stream",
     "text": [
      "The average windspeed increases gradually as you travel away from the\n",
      "equator in both the North and South Hemispheres.\n"
     ]
    }
   ],
   "source": [
    "south_lat = southern_df[\"Lat\"]\n",
    "south_wind = southern_df[\"Windspeed\"]\n",
    "(slope, intercept, rvalue, pvalue, stderr) = linregress(south_lat, south_wind)\n",
    "\n",
    "regress_values = south_lat * slope + intercept\n",
    "\n",
    "line_eq = \"y = \" + str(round(slope,2)) + \"x + \" + str(round(intercept,2))\n",
    "plt.scatter(south_lat, south_wind, marker=\"o\", facecolors=\"blue\", edgecolors=\"black\")\n",
    "plt.plot(south_lat,regress_values,\"r-\")\n",
    "plt.annotate(line_eq,(-20, 25),fontsize=15,color=\"red\")\n",
    "plt.title(\"Southern Hemisphere City Latitude vs Windspeed (4/14/2020)\")\n",
    "plt.xlabel(\"Latitude\")\n",
    "plt.ylabel(\"Windspeed(MPH)\")\n",
    "plt.grid()\n",
    "plt.savefig(\"windspeed_vs_south_latitude.png\")\n",
    "print(f\"The r-squared is: {rvalue**2}\")\n",
    "plt.show()\n",
    "\n",
    "print(\"The average windspeed increases gradually as you travel away from the\")\n",
    "print(\"equator in both the North and South Hemispheres.\")"
   ]
  },
  {
   "cell_type": "code",
   "execution_count": null,
   "metadata": {},
   "outputs": [],
   "source": []
  }
 ],
 "metadata": {
  "anaconda-cloud": {},
  "kernel_info": {
   "name": "python3"
  },
  "kernelspec": {
   "display_name": "Python 3",
   "language": "python",
   "name": "python3"
  },
  "language_info": {
   "codemirror_mode": {
    "name": "ipython",
    "version": 3
   },
   "file_extension": ".py",
   "mimetype": "text/x-python",
   "name": "python",
   "nbconvert_exporter": "python",
   "pygments_lexer": "ipython3",
   "version": "3.6.10"
  },
  "latex_envs": {
   "LaTeX_envs_menu_present": true,
   "autoclose": false,
   "autocomplete": true,
   "bibliofile": "biblio.bib",
   "cite_by": "apalike",
   "current_citInitial": 1,
   "eqLabelWithNumbers": true,
   "eqNumInitial": 1,
   "hotkeys": {
    "equation": "Ctrl-E",
    "itemize": "Ctrl-I"
   },
   "labels_anchors": false,
   "latex_user_defs": false,
   "report_style_numbering": false,
   "user_envs_cfg": false
  },
  "nteract": {
   "version": "0.12.3"
  }
 },
 "nbformat": 4,
 "nbformat_minor": 2
}
